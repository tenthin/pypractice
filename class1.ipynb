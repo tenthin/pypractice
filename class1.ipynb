{
 "cells": [
  {
   "cell_type": "code",
   "execution_count": 13,
   "metadata": {},
   "outputs": [],
   "source": [
    "class Robot:\n",
    "    def __init__(self,name,color,weight,battery,timeperiod):\n",
    "        self.name = name\n",
    "        self.color = color\n",
    "        self.weight = weight\n",
    "        self.battery = battery\n",
    "        self.timeperiod = timeperiod\n",
    "    def introduce_self(self):\n",
    "        print(\"my name is \" + self.name + \" !\")\n",
    "    def how_much_hour_left(self):\n",
    "        #10% battery lasts for 1 hour\n",
    "        left_hours = self.battery/10\n",
    "        blank_hours = self.timeperiod - left_hours\n",
    "        print(\"Hi boss, only \" + str(left_hours) + \" hours left !\")\n",
    "        print( str(blank_hours) + \" hours is not operationable !\")"
   ]
  },
  {
   "cell_type": "code",
   "execution_count": 14,
   "metadata": {},
   "outputs": [],
   "source": [
    "r1 = Robot(\"Tom\",\"red\",30,90,10)\n",
    "r2 = Robot(\"Jerry\",\"Blue\",40,50,10)"
   ]
  },
  {
   "cell_type": "code",
   "execution_count": 15,
   "metadata": {},
   "outputs": [
    {
     "name": "stdout",
     "output_type": "stream",
     "text": [
      "my name is Tom !\n",
      "my name is Jerry !\n",
      "Hi boss, only 9.0 hours left !\n",
      "1.0 hours is not operationable !\n",
      "Hi boss, only 5.0 hours left !\n",
      "5.0 hours is not operationable !\n"
     ]
    }
   ],
   "source": [
    "r1.introduce_self()\n",
    "r2.introduce_self()\n",
    "r1.how_much_hour_left()\n",
    "r2.how_much_hour_left()\n"
   ]
  },
  {
   "cell_type": "code",
   "execution_count": null,
   "metadata": {},
   "outputs": [],
   "source": []
  }
 ],
 "metadata": {
  "kernelspec": {
   "display_name": "Python 3",
   "language": "python",
   "name": "python3"
  },
  "language_info": {
   "codemirror_mode": {
    "name": "ipython",
    "version": 3
   },
   "file_extension": ".py",
   "mimetype": "text/x-python",
   "name": "python",
   "nbconvert_exporter": "python",
   "pygments_lexer": "ipython3",
   "version": "3.8.3"
  }
 },
 "nbformat": 4,
 "nbformat_minor": 4
}
